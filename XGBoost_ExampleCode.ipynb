{
 "cells": [
  {
   "cell_type": "markdown",
   "metadata": {},
   "source": [
    "# XGBoost Regression"
   ]
  },
  {
   "cell_type": "markdown",
   "metadata": {},
   "source": [
    "### Load Packages"
   ]
  },
  {
   "cell_type": "code",
   "execution_count": 56,
   "metadata": {},
   "outputs": [],
   "source": [
    "import matplotlib.pyplot as plt\n",
    "import numpy as np\n",
    "import pandas as pd\n",
    "\n",
    "import seaborn as sns\n",
    "\n",
    "from sklearn.metrics import mean_squared_error\n",
    "from sklearn.model_selection import train_test_split\n",
    "from sklearn.model_selection import cross_val_score\n",
    "from sklearn.metrics import mean_absolute_error\n",
    "from sklearn.metrics import r2_score\n",
    "from sklearn.preprocessing import OneHotEncoder\n",
    "\n",
    "import xgboost as xgb\n",
    "from xgboost import XGBRegressor as xgbreg\n",
    "from xgboost import plot_importance"
   ]
  },
  {
   "cell_type": "markdown",
   "metadata": {},
   "source": [
    "### Import Data"
   ]
  },
  {
   "cell_type": "code",
   "execution_count": 57,
   "metadata": {},
   "outputs": [
    {
     "data": {
      "text/html": [
       "<div>\n",
       "<style scoped>\n",
       "    .dataframe tbody tr th:only-of-type {\n",
       "        vertical-align: middle;\n",
       "    }\n",
       "\n",
       "    .dataframe tbody tr th {\n",
       "        vertical-align: top;\n",
       "    }\n",
       "\n",
       "    .dataframe thead th {\n",
       "        text-align: right;\n",
       "    }\n",
       "</style>\n",
       "<table border=\"1\" class=\"dataframe\">\n",
       "  <thead>\n",
       "    <tr style=\"text-align: right;\">\n",
       "      <th></th>\n",
       "      <th>SAMPLE#</th>\n",
       "      <th>PLANT_DENSITY</th>\n",
       "      <th>FERTILIZER</th>\n",
       "      <th>SEED_HYBRID</th>\n",
       "      <th>NDVI</th>\n",
       "      <th>BIOMASS</th>\n",
       "      <th>PNU</th>\n",
       "      <th>YIELD</th>\n",
       "    </tr>\n",
       "  </thead>\n",
       "  <tbody>\n",
       "    <tr>\n",
       "      <th>0</th>\n",
       "      <td>1</td>\n",
       "      <td>35</td>\n",
       "      <td>100</td>\n",
       "      <td>HYB1</td>\n",
       "      <td>0.868</td>\n",
       "      <td>6.09</td>\n",
       "      <td>74.1762</td>\n",
       "      <td>181.879349</td>\n",
       "    </tr>\n",
       "    <tr>\n",
       "      <th>1</th>\n",
       "      <td>3</td>\n",
       "      <td>34</td>\n",
       "      <td>200</td>\n",
       "      <td>HYB1</td>\n",
       "      <td>0.924</td>\n",
       "      <td>7.92</td>\n",
       "      <td>125.4528</td>\n",
       "      <td>218.899751</td>\n",
       "    </tr>\n",
       "    <tr>\n",
       "      <th>2</th>\n",
       "      <td>4</td>\n",
       "      <td>34</td>\n",
       "      <td>100</td>\n",
       "      <td>HYB1</td>\n",
       "      <td>0.840</td>\n",
       "      <td>5.64</td>\n",
       "      <td>63.6192</td>\n",
       "      <td>168.532993</td>\n",
       "    </tr>\n",
       "    <tr>\n",
       "      <th>3</th>\n",
       "      <td>7</td>\n",
       "      <td>31</td>\n",
       "      <td>50</td>\n",
       "      <td>HYB1</td>\n",
       "      <td>0.700</td>\n",
       "      <td>3.31</td>\n",
       "      <td>21.9122</td>\n",
       "      <td>131.016787</td>\n",
       "    </tr>\n",
       "    <tr>\n",
       "      <th>4</th>\n",
       "      <td>9</td>\n",
       "      <td>31</td>\n",
       "      <td>50</td>\n",
       "      <td>HYB1</td>\n",
       "      <td>0.728</td>\n",
       "      <td>3.28</td>\n",
       "      <td>21.5168</td>\n",
       "      <td>134.711135</td>\n",
       "    </tr>\n",
       "    <tr>\n",
       "      <th>...</th>\n",
       "      <td>...</td>\n",
       "      <td>...</td>\n",
       "      <td>...</td>\n",
       "      <td>...</td>\n",
       "      <td>...</td>\n",
       "      <td>...</td>\n",
       "      <td>...</td>\n",
       "      <td>...</td>\n",
       "    </tr>\n",
       "    <tr>\n",
       "      <th>495</th>\n",
       "      <td>491</td>\n",
       "      <td>35</td>\n",
       "      <td>175</td>\n",
       "      <td>HYB2</td>\n",
       "      <td>0.882</td>\n",
       "      <td>5.94</td>\n",
       "      <td>70.5672</td>\n",
       "      <td>240.757991</td>\n",
       "    </tr>\n",
       "    <tr>\n",
       "      <th>496</th>\n",
       "      <td>492</td>\n",
       "      <td>34</td>\n",
       "      <td>175</td>\n",
       "      <td>HYB2</td>\n",
       "      <td>0.868</td>\n",
       "      <td>5.35</td>\n",
       "      <td>57.2450</td>\n",
       "      <td>231.871162</td>\n",
       "    </tr>\n",
       "    <tr>\n",
       "      <th>497</th>\n",
       "      <td>495</td>\n",
       "      <td>34</td>\n",
       "      <td>0</td>\n",
       "      <td>HYB2</td>\n",
       "      <td>0.644</td>\n",
       "      <td>1.89</td>\n",
       "      <td>7.1442</td>\n",
       "      <td>46.544353</td>\n",
       "    </tr>\n",
       "    <tr>\n",
       "      <th>498</th>\n",
       "      <td>497</td>\n",
       "      <td>34</td>\n",
       "      <td>175</td>\n",
       "      <td>HYB2</td>\n",
       "      <td>0.910</td>\n",
       "      <td>7.03</td>\n",
       "      <td>98.8418</td>\n",
       "      <td>221.592631</td>\n",
       "    </tr>\n",
       "    <tr>\n",
       "      <th>499</th>\n",
       "      <td>500</td>\n",
       "      <td>30</td>\n",
       "      <td>0</td>\n",
       "      <td>HYB2</td>\n",
       "      <td>0.686</td>\n",
       "      <td>2.49</td>\n",
       "      <td>12.4002</td>\n",
       "      <td>54.659495</td>\n",
       "    </tr>\n",
       "  </tbody>\n",
       "</table>\n",
       "<p>500 rows × 8 columns</p>\n",
       "</div>"
      ],
      "text/plain": [
       "     SAMPLE#  PLANT_DENSITY  FERTILIZER SEED_HYBRID   NDVI  BIOMASS       PNU  \\\n",
       "0          1             35         100        HYB1  0.868     6.09   74.1762   \n",
       "1          3             34         200        HYB1  0.924     7.92  125.4528   \n",
       "2          4             34         100        HYB1  0.840     5.64   63.6192   \n",
       "3          7             31          50        HYB1  0.700     3.31   21.9122   \n",
       "4          9             31          50        HYB1  0.728     3.28   21.5168   \n",
       "..       ...            ...         ...         ...    ...      ...       ...   \n",
       "495      491             35         175        HYB2  0.882     5.94   70.5672   \n",
       "496      492             34         175        HYB2  0.868     5.35   57.2450   \n",
       "497      495             34           0        HYB2  0.644     1.89    7.1442   \n",
       "498      497             34         175        HYB2  0.910     7.03   98.8418   \n",
       "499      500             30           0        HYB2  0.686     2.49   12.4002   \n",
       "\n",
       "          YIELD  \n",
       "0    181.879349  \n",
       "1    218.899751  \n",
       "2    168.532993  \n",
       "3    131.016787  \n",
       "4    134.711135  \n",
       "..          ...  \n",
       "495  240.757991  \n",
       "496  231.871162  \n",
       "497   46.544353  \n",
       "498  221.592631  \n",
       "499   54.659495  \n",
       "\n",
       "[500 rows x 8 columns]"
      ]
     },
     "execution_count": 57,
     "metadata": {},
     "output_type": "execute_result"
    }
   ],
   "source": [
    "RawData = pd.read_csv('SampleData_XGBoost.csv')\n",
    "Data = RawData.dropna()\n",
    "Data"
   ]
  },
  {
   "cell_type": "markdown",
   "metadata": {},
   "source": [
    "### Convert Variety to One-Hot Encoding"
   ]
  },
  {
   "cell_type": "code",
   "execution_count": 58,
   "metadata": {},
   "outputs": [
    {
     "data": {
      "text/html": [
       "<div>\n",
       "<style scoped>\n",
       "    .dataframe tbody tr th:only-of-type {\n",
       "        vertical-align: middle;\n",
       "    }\n",
       "\n",
       "    .dataframe tbody tr th {\n",
       "        vertical-align: top;\n",
       "    }\n",
       "\n",
       "    .dataframe thead th {\n",
       "        text-align: right;\n",
       "    }\n",
       "</style>\n",
       "<table border=\"1\" class=\"dataframe\">\n",
       "  <thead>\n",
       "    <tr style=\"text-align: right;\">\n",
       "      <th></th>\n",
       "      <th>SAMPLE#</th>\n",
       "      <th>PLANT_DENSITY</th>\n",
       "      <th>FERTILIZER</th>\n",
       "      <th>SEED_HYBRID</th>\n",
       "      <th>NDVI</th>\n",
       "      <th>BIOMASS</th>\n",
       "      <th>PNU</th>\n",
       "      <th>YIELD</th>\n",
       "      <th>HYB1</th>\n",
       "      <th>HYB2</th>\n",
       "    </tr>\n",
       "  </thead>\n",
       "  <tbody>\n",
       "    <tr>\n",
       "      <th>0</th>\n",
       "      <td>1</td>\n",
       "      <td>35</td>\n",
       "      <td>100</td>\n",
       "      <td>HYB1</td>\n",
       "      <td>0.868</td>\n",
       "      <td>6.09</td>\n",
       "      <td>74.1762</td>\n",
       "      <td>181.879349</td>\n",
       "      <td>1</td>\n",
       "      <td>0</td>\n",
       "    </tr>\n",
       "    <tr>\n",
       "      <th>1</th>\n",
       "      <td>3</td>\n",
       "      <td>34</td>\n",
       "      <td>200</td>\n",
       "      <td>HYB1</td>\n",
       "      <td>0.924</td>\n",
       "      <td>7.92</td>\n",
       "      <td>125.4528</td>\n",
       "      <td>218.899751</td>\n",
       "      <td>1</td>\n",
       "      <td>0</td>\n",
       "    </tr>\n",
       "    <tr>\n",
       "      <th>2</th>\n",
       "      <td>4</td>\n",
       "      <td>34</td>\n",
       "      <td>100</td>\n",
       "      <td>HYB1</td>\n",
       "      <td>0.840</td>\n",
       "      <td>5.64</td>\n",
       "      <td>63.6192</td>\n",
       "      <td>168.532993</td>\n",
       "      <td>1</td>\n",
       "      <td>0</td>\n",
       "    </tr>\n",
       "    <tr>\n",
       "      <th>3</th>\n",
       "      <td>7</td>\n",
       "      <td>31</td>\n",
       "      <td>50</td>\n",
       "      <td>HYB1</td>\n",
       "      <td>0.700</td>\n",
       "      <td>3.31</td>\n",
       "      <td>21.9122</td>\n",
       "      <td>131.016787</td>\n",
       "      <td>1</td>\n",
       "      <td>0</td>\n",
       "    </tr>\n",
       "    <tr>\n",
       "      <th>4</th>\n",
       "      <td>9</td>\n",
       "      <td>31</td>\n",
       "      <td>50</td>\n",
       "      <td>HYB1</td>\n",
       "      <td>0.728</td>\n",
       "      <td>3.28</td>\n",
       "      <td>21.5168</td>\n",
       "      <td>134.711135</td>\n",
       "      <td>1</td>\n",
       "      <td>0</td>\n",
       "    </tr>\n",
       "    <tr>\n",
       "      <th>...</th>\n",
       "      <td>...</td>\n",
       "      <td>...</td>\n",
       "      <td>...</td>\n",
       "      <td>...</td>\n",
       "      <td>...</td>\n",
       "      <td>...</td>\n",
       "      <td>...</td>\n",
       "      <td>...</td>\n",
       "      <td>...</td>\n",
       "      <td>...</td>\n",
       "    </tr>\n",
       "    <tr>\n",
       "      <th>495</th>\n",
       "      <td>491</td>\n",
       "      <td>35</td>\n",
       "      <td>175</td>\n",
       "      <td>HYB2</td>\n",
       "      <td>0.882</td>\n",
       "      <td>5.94</td>\n",
       "      <td>70.5672</td>\n",
       "      <td>240.757991</td>\n",
       "      <td>0</td>\n",
       "      <td>1</td>\n",
       "    </tr>\n",
       "    <tr>\n",
       "      <th>496</th>\n",
       "      <td>492</td>\n",
       "      <td>34</td>\n",
       "      <td>175</td>\n",
       "      <td>HYB2</td>\n",
       "      <td>0.868</td>\n",
       "      <td>5.35</td>\n",
       "      <td>57.2450</td>\n",
       "      <td>231.871162</td>\n",
       "      <td>0</td>\n",
       "      <td>1</td>\n",
       "    </tr>\n",
       "    <tr>\n",
       "      <th>497</th>\n",
       "      <td>495</td>\n",
       "      <td>34</td>\n",
       "      <td>0</td>\n",
       "      <td>HYB2</td>\n",
       "      <td>0.644</td>\n",
       "      <td>1.89</td>\n",
       "      <td>7.1442</td>\n",
       "      <td>46.544353</td>\n",
       "      <td>0</td>\n",
       "      <td>1</td>\n",
       "    </tr>\n",
       "    <tr>\n",
       "      <th>498</th>\n",
       "      <td>497</td>\n",
       "      <td>34</td>\n",
       "      <td>175</td>\n",
       "      <td>HYB2</td>\n",
       "      <td>0.910</td>\n",
       "      <td>7.03</td>\n",
       "      <td>98.8418</td>\n",
       "      <td>221.592631</td>\n",
       "      <td>0</td>\n",
       "      <td>1</td>\n",
       "    </tr>\n",
       "    <tr>\n",
       "      <th>499</th>\n",
       "      <td>500</td>\n",
       "      <td>30</td>\n",
       "      <td>0</td>\n",
       "      <td>HYB2</td>\n",
       "      <td>0.686</td>\n",
       "      <td>2.49</td>\n",
       "      <td>12.4002</td>\n",
       "      <td>54.659495</td>\n",
       "      <td>0</td>\n",
       "      <td>1</td>\n",
       "    </tr>\n",
       "  </tbody>\n",
       "</table>\n",
       "<p>500 rows × 10 columns</p>\n",
       "</div>"
      ],
      "text/plain": [
       "     SAMPLE#  PLANT_DENSITY  FERTILIZER SEED_HYBRID   NDVI  BIOMASS       PNU  \\\n",
       "0          1             35         100        HYB1  0.868     6.09   74.1762   \n",
       "1          3             34         200        HYB1  0.924     7.92  125.4528   \n",
       "2          4             34         100        HYB1  0.840     5.64   63.6192   \n",
       "3          7             31          50        HYB1  0.700     3.31   21.9122   \n",
       "4          9             31          50        HYB1  0.728     3.28   21.5168   \n",
       "..       ...            ...         ...         ...    ...      ...       ...   \n",
       "495      491             35         175        HYB2  0.882     5.94   70.5672   \n",
       "496      492             34         175        HYB2  0.868     5.35   57.2450   \n",
       "497      495             34           0        HYB2  0.644     1.89    7.1442   \n",
       "498      497             34         175        HYB2  0.910     7.03   98.8418   \n",
       "499      500             30           0        HYB2  0.686     2.49   12.4002   \n",
       "\n",
       "          YIELD  HYB1  HYB2  \n",
       "0    181.879349     1     0  \n",
       "1    218.899751     1     0  \n",
       "2    168.532993     1     0  \n",
       "3    131.016787     1     0  \n",
       "4    134.711135     1     0  \n",
       "..          ...   ...   ...  \n",
       "495  240.757991     0     1  \n",
       "496  231.871162     0     1  \n",
       "497   46.544353     0     1  \n",
       "498  221.592631     0     1  \n",
       "499   54.659495     0     1  \n",
       "\n",
       "[500 rows x 10 columns]"
      ]
     },
     "execution_count": 58,
     "metadata": {},
     "output_type": "execute_result"
    }
   ],
   "source": [
    "VarietiesOneHot = pd.get_dummies(Data.SEED_HYBRID)\n",
    "Data = pd.concat([Data, VarietiesOneHot], axis=1)\n",
    "Data"
   ]
  },
  {
   "cell_type": "markdown",
   "metadata": {},
   "source": [
    "### Define Variables"
   ]
  },
  {
   "cell_type": "code",
   "execution_count": 63,
   "metadata": {},
   "outputs": [],
   "source": [
    "# Response Variables ['NDVI','PLANT_DENSITY','FERTILIZER']\n",
    "X = Data[['NDVI','FERTILIZER','PLANT_DENSITY','HYB1','HYB2']]\n",
    "\n",
    "# Predicted Variable ['BIOMASS' or 'YIELD']\n",
    "y = Data[['YIELD']]"
   ]
  },
  {
   "cell_type": "code",
   "execution_count": 64,
   "metadata": {},
   "outputs": [
    {
     "data": {
      "text/plain": [
       "<matplotlib.axes._subplots.AxesSubplot at 0x22bc53f26d0>"
      ]
     },
     "execution_count": 64,
     "metadata": {},
     "output_type": "execute_result"
    },
    {
     "data": {
      "image/png": "[encoded data removed]",
      "text/plain": [
       "<Figure size 432x288 with 1 Axes>"
      ]
     },
     "metadata": {
      "needs_background": "light"
     },
     "output_type": "display_data"
    }
   ],
   "source": [
    "sns.scatterplot(data=Data, x='FERTILIZER', y='YIELD',hue='SEED_HYBRID',palette='viridis')"
   ]
  },
  {
   "cell_type": "markdown",
   "metadata": {},
   "source": [
    "### Split Into Testing and Training Sets"
   ]
  },
  {
   "cell_type": "code",
   "execution_count": 65,
   "metadata": {},
   "outputs": [],
   "source": [
    "# Method 1 - Choose Training and Testing Groups by Category (i.e. experimental replicate, block, etc)\n",
    "\n",
    "# Train = Data.loc[(Data['Block']!=1)&(Data['Block']!=4)]\n",
    "# Test = Data.loc[(Data['Block']==1)|(Data['Block']==4)]\n",
    "#X_train = Train[['FERTILIZER','NDVI','PLANT_DENSITY']]]\n",
    "#y_train = Train[['BIOMASS']]\n",
    "#X_test = Test[['FERTILIZER','NDVI','PLANT_DENSITY']]\n",
    "#y_test = Test[['BIOMASS']]\n",
    "\n",
    "# Method 2 - Choose Training and Testing Randomly by Splitting 67% Training / 33% Testing\n",
    "X_train, X_test, y_train, y_test = train_test_split(X, y, test_size=0.33, random_state=123)"
   ]
  },
  {
   "cell_type": "code",
   "execution_count": 66,
   "metadata": {},
   "outputs": [],
   "source": [
    "# Convert into DMatrix which is the dataframe used for XGBoost\n",
    "DMatrix_train = xgb.DMatrix(X_train,y_train)\n",
    "DMatrix_test = xgb.DMatrix(X_test, y_test)"
   ]
  },
  {
   "cell_type": "markdown",
   "metadata": {},
   "source": [
    "### Define Regression Parmeters"
   ]
  },
  {
   "cell_type": "code",
   "execution_count": 67,
   "metadata": {},
   "outputs": [],
   "source": [
    "def optimizer(DMatrix_train):\n",
    "    #Setting to Default Values\n",
    "    params = {'min_child_weight':1, 'max_depth': 6}\n",
    "    best = 100\n",
    "    boost = 1\n",
    "    min_child_wt = 1\n",
    "    depth = 1\n",
    "    learningrate = 0\n",
    "    #Searching for optimal max_depth and min_child_weight using nested for loop to search all input ranges\n",
    "    for max_depth in range(2,6,1):\n",
    "        for min_child_weight in range(1,6,1):\n",
    "            for eta in np.arange(0.0,0.8,0.05):\n",
    "                params['max_depth'] = max_depth\n",
    "                params['min_child_weight'] = min_child_weight\n",
    "                params['learning_rate'] = eta\n",
    "                # Run CV\n",
    "                results = xgb.cv(dtrain = DMatrix_train, params = params, nfold=3,num_boost_round=10000, early_stopping_rounds=3, metrics=\"mae\",seed=123)\n",
    "                # Update best MAE\n",
    "                MAE = results['test-mae-mean'].min()\n",
    "                boost_rounds = results['test-mae-mean'].argmin()\n",
    "                if MAE < best:\n",
    "                    depth = max_depth\n",
    "                    boost = boost_rounds\n",
    "                    learningrate = eta\n",
    "                    min_child_wt = min_child_weight\n",
    "                    best = MAE\n",
    "                \n",
    "    print(\"The mae on test set: {:.4f}\".format(best))\n",
    "    print(\"Boosting Rounds: {:.4f}\".format(boost))\n",
    "    print(\"min_child_weight: {:.4f}\".format(min_child_wt))\n",
    "    print(\"max depth: {:.4f}\".format(depth))\n",
    "    print(\"learning rate{:.4f}\".format(learningrate))"
   ]
  },
  {
   "cell_type": "code",
   "execution_count": 68,
   "metadata": {},
   "outputs": [
    {
     "name": "stdout",
     "output_type": "stream",
     "text": [
      "The mae on test set: 5.5987\n",
      "Boosting Rounds: 152.0000\n",
      "min_child_weight: 1.0000\n",
      "max depth: 3.0000\n",
      "learning rate0.0500\n"
     ]
    }
   ],
   "source": [
    "optimizer(DMatrix_train)"
   ]
  },
  {
   "cell_type": "code",
   "execution_count": 10,
   "metadata": {},
   "outputs": [],
   "source": [
    "# Sample Output from hyperTune()\n",
    "# The mae on test set: 0.1580\n",
    "# Boosting Rounds: 84.0000\n",
    "# min_child_weight: 1.0000\n",
    "# max depth: 4.0000\n",
    "# learning rate: 0.0500"
   ]
  },
  {
   "cell_type": "code",
   "execution_count": 69,
   "metadata": {},
   "outputs": [],
   "source": [
    "params = {'min_child_weight': 1,\n",
    "          'max_depth': 3,\n",
    "         'learning_rate': 0.05}"
   ]
  },
  {
   "cell_type": "markdown",
   "metadata": {},
   "source": [
    "### Fit Training Set and Show Statistics"
   ]
  },
  {
   "cell_type": "code",
   "execution_count": 70,
   "metadata": {},
   "outputs": [
    {
     "data": {
      "text/plain": [
       "XGBRegressor(base_score=0.5, booster='gbtree', colsample_bylevel=1,\n",
       "             colsample_bynode=1, colsample_bytree=1, gamma=0, gpu_id=-1,\n",
       "             importance_type='gain', interaction_constraints='',\n",
       "             learning_rate=0.05, max_delta_step=0, max_depth=3,\n",
       "             min_child_weight=1, missing=nan, monotone_constraints='()',\n",
       "             n_estimators=100, n_jobs=0, num_parallel_tree=1, random_state=0,\n",
       "             reg_alpha=0, reg_lambda=1, scale_pos_weight=1, subsample=1,\n",
       "             tree_method='exact', validate_parameters=1, verbosity=None)"
      ]
     },
     "execution_count": 70,
     "metadata": {},
     "output_type": "execute_result"
    }
   ],
   "source": [
    "xg_reg = xgbreg(**params)\n",
    "xg_reg.fit(X_train, y_train.values.ravel())"
   ]
  },
  {
   "cell_type": "markdown",
   "metadata": {},
   "source": [
    "### Cross Validation"
   ]
  },
  {
   "cell_type": "code",
   "execution_count": 71,
   "metadata": {},
   "outputs": [
    {
     "name": "stdout",
     "output_type": "stream",
     "text": [
      "The RMSE on train set: 6.1082\n",
      "The r2 on train set: 0.9893\n",
      "The MAE on train set: 5.1372\n"
     ]
    }
   ],
   "source": [
    "# Training\n",
    "rmse = (mean_squared_error(y_train, xg_reg.predict(X_train))**0.5)  \n",
    "print(\"The RMSE on train set: {:.4f}\".format(rmse))\n",
    "r2 = r2_score(y_train, xg_reg.predict(X_train))\n",
    "print(\"The r2 on train set: {:.4f}\".format(r2))\n",
    "mae = mean_absolute_error(y_train, xg_reg.predict(X_train))\n",
    "print(\"The MAE on train set: {:.4f}\".format(mae))"
   ]
  },
  {
   "cell_type": "code",
   "execution_count": 72,
   "metadata": {},
   "outputs": [
    {
     "name": "stdout",
     "output_type": "stream",
     "text": [
      "The RMSE on test set: 6.5370\n",
      "The r2 on test set: 0.9865\n",
      "The MAE on test set: 5.5809\n"
     ]
    }
   ],
   "source": [
    "# Testing\n",
    "rmse = (mean_squared_error(y_test, xg_reg.predict(X_test))**0.5)  \n",
    "print(\"The RMSE on test set: {:.4f}\".format(rmse))\n",
    "r2 = r2_score(y_test, xg_reg.predict(X_test))\n",
    "print(\"The r2 on test set: {:.4f}\".format(r2))\n",
    "mae = mean_absolute_error(y_test, xg_reg.predict(X_test))\n",
    "print(\"The MAE on test set: {:.4f}\".format(mae))"
   ]
  },
  {
   "cell_type": "code",
   "execution_count": 73,
   "metadata": {},
   "outputs": [
    {
     "data": {
      "text/plain": [
       "FERTILIZER       0.976302\n",
       "HYB1             0.019442\n",
       "PLANT_DENSITY    0.002412\n",
       "NDVI             0.001843\n",
       "HYB2             0.000000\n",
       "dtype: float32"
      ]
     },
     "execution_count": 73,
     "metadata": {},
     "output_type": "execute_result"
    }
   ],
   "source": [
    "feature_imp = pd.Series(xg_reg.feature_importances_,index=list(X_train)).sort_values(ascending=False)\n",
    "feature_imp"
   ]
  },
  {
   "cell_type": "code",
   "execution_count": 74,
   "metadata": {},
   "outputs": [
    {
     "data": {
      "text/plain": [
       "[<matplotlib.lines.Line2D at 0x22bc54d39d0>]"
      ]
     },
     "execution_count": 74,
     "metadata": {},
     "output_type": "execute_result"
    },
    {
     "data": {
      "image/png": "[encoded data removed]",
      "text/plain": [
       "<Figure size 432x288 with 1 Axes>"
      ]
     },
     "metadata": {
      "needs_background": "light"
     },
     "output_type": "display_data"
    }
   ],
   "source": [
    "# Plot for PNU\n",
    "x_pred = xg_reg.predict(X_test)\n",
    "plt.scatter(x_pred,y_test)\n",
    "plt.xlabel('Predicted')\n",
    "plt.ylabel('Measured')\n",
    "\n",
    "# Find min and max values of measured variable and plot abline to show correlation of training and testing models (i.e. biomass, yield, PNU, etc.)\n",
    "miny=y.min()\n",
    "maxy=y.max()\n",
    "abline = np.linspace(miny,maxy)\n",
    "plt.plot(abline,abline,'--k')\n"
   ]
  },
  {
   "cell_type": "code",
   "execution_count": 75,
   "metadata": {},
   "outputs": [
    {
     "data": {
      "text/plain": [
       "<matplotlib.axes._subplots.AxesSubplot at 0x22bc5511c10>"
      ]
     },
     "execution_count": 75,
     "metadata": {},
     "output_type": "execute_result"
    },
    {
     "data": {
      "image/png": "[encoded data removed]",
      "text/plain": [
       "<Figure size 432x288 with 1 Axes>"
      ]
     },
     "metadata": {
      "needs_background": "light"
     },
     "output_type": "display_data"
    }
   ],
   "source": [
    "plot_importance(xg_reg,importance_type='gain',show_values=False,title=None)"
   ]
  }
 ],
 "metadata": {
  "kernelspec": {
   "display_name": "Python 3",
   "language": "python",
   "name": "python3"
  },
  "language_info": {
   "codemirror_mode": {
    "name": "ipython",
    "version": 3
   },
   "file_extension": ".py",
   "mimetype": "text/x-python",
   "name": "python",
   "nbconvert_exporter": "python",
   "pygments_lexer": "ipython3",
   "version": "3.8.3"
  }
 },
 "nbformat": 4,
 "nbformat_minor": 4
}
